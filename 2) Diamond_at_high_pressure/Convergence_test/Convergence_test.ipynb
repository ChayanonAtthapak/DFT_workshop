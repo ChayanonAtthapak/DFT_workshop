{
 "cells": [
  {
   "cell_type": "code",
   "execution_count": 108,
   "id": "5e634207-4278-49e5-a9b9-6edb1f762c96",
   "metadata": {},
   "outputs": [],
   "source": [
    "import numpy as np\n",
    "import matplotlib.pyplot as plt\n",
    "import pandas as pd\n",
    "\n",
    "%matplotlib inline"
   ]
  },
  {
   "cell_type": "markdown",
   "id": "031c0182-c3a7-4f7a-abba-bca9ea665435",
   "metadata": {},
   "source": [
    "# Energy cutoff convergence test"
   ]
  },
  {
   "cell_type": "code",
   "execution_count": 114,
   "id": "aa1ddb34-bd65-4c1a-b708-fe61e7f0b132",
   "metadata": {},
   "outputs": [
    {
     "data": {
      "text/html": [
       "<div>\n",
       "<style scoped>\n",
       "    .dataframe tbody tr th:only-of-type {\n",
       "        vertical-align: middle;\n",
       "    }\n",
       "\n",
       "    .dataframe tbody tr th {\n",
       "        vertical-align: top;\n",
       "    }\n",
       "\n",
       "    .dataframe thead th {\n",
       "        text-align: right;\n",
       "    }\n",
       "</style>\n",
       "<table border=\"1\" class=\"dataframe\">\n",
       "  <thead>\n",
       "    <tr style=\"text-align: right;\">\n",
       "      <th></th>\n",
       "      <th>Ecut</th>\n",
       "      <th>Etot (Ry)</th>\n",
       "      <th>Etot (eV/atom)</th>\n",
       "      <th>Etot-Etot(cut=100) (meV/atom)</th>\n",
       "    </tr>\n",
       "  </thead>\n",
       "  <tbody>\n",
       "    <tr>\n",
       "      <th>0</th>\n",
       "      <td>10</td>\n",
       "      <td>-35.788956</td>\n",
       "      <td>-243.472267</td>\n",
       "      <td>7341.845153</td>\n",
       "    </tr>\n",
       "    <tr>\n",
       "      <th>1</th>\n",
       "      <td>15</td>\n",
       "      <td>-36.461757</td>\n",
       "      <td>-248.049335</td>\n",
       "      <td>2764.777025</td>\n",
       "    </tr>\n",
       "    <tr>\n",
       "      <th>2</th>\n",
       "      <td>20</td>\n",
       "      <td>-36.746033</td>\n",
       "      <td>-249.983266</td>\n",
       "      <td>830.846376</td>\n",
       "    </tr>\n",
       "    <tr>\n",
       "      <th>3</th>\n",
       "      <td>25</td>\n",
       "      <td>-36.819532</td>\n",
       "      <td>-250.483279</td>\n",
       "      <td>330.832883</td>\n",
       "    </tr>\n",
       "    <tr>\n",
       "      <th>4</th>\n",
       "      <td>30</td>\n",
       "      <td>-36.849580</td>\n",
       "      <td>-250.687695</td>\n",
       "      <td>126.417428</td>\n",
       "    </tr>\n",
       "    <tr>\n",
       "      <th>5</th>\n",
       "      <td>35</td>\n",
       "      <td>-36.863228</td>\n",
       "      <td>-250.780540</td>\n",
       "      <td>33.571989</td>\n",
       "    </tr>\n",
       "    <tr>\n",
       "      <th>6</th>\n",
       "      <td>40</td>\n",
       "      <td>-36.866487</td>\n",
       "      <td>-250.802712</td>\n",
       "      <td>11.400331</td>\n",
       "    </tr>\n",
       "    <tr>\n",
       "      <th>7</th>\n",
       "      <td>45</td>\n",
       "      <td>-36.866999</td>\n",
       "      <td>-250.806196</td>\n",
       "      <td>7.916243</td>\n",
       "    </tr>\n",
       "    <tr>\n",
       "      <th>8</th>\n",
       "      <td>50</td>\n",
       "      <td>-36.867128</td>\n",
       "      <td>-250.807072</td>\n",
       "      <td>7.039880</td>\n",
       "    </tr>\n",
       "    <tr>\n",
       "      <th>9</th>\n",
       "      <td>55</td>\n",
       "      <td>-36.867329</td>\n",
       "      <td>-250.808436</td>\n",
       "      <td>5.676151</td>\n",
       "    </tr>\n",
       "    <tr>\n",
       "      <th>10</th>\n",
       "      <td>60</td>\n",
       "      <td>-36.867591</td>\n",
       "      <td>-250.810224</td>\n",
       "      <td>3.888663</td>\n",
       "    </tr>\n",
       "    <tr>\n",
       "      <th>11</th>\n",
       "      <td>65</td>\n",
       "      <td>-36.867823</td>\n",
       "      <td>-250.811802</td>\n",
       "      <td>2.310503</td>\n",
       "    </tr>\n",
       "    <tr>\n",
       "      <th>12</th>\n",
       "      <td>70</td>\n",
       "      <td>-36.867982</td>\n",
       "      <td>-250.812879</td>\n",
       "      <td>1.233588</td>\n",
       "    </tr>\n",
       "    <tr>\n",
       "      <th>13</th>\n",
       "      <td>75</td>\n",
       "      <td>-36.868069</td>\n",
       "      <td>-250.813472</td>\n",
       "      <td>0.640570</td>\n",
       "    </tr>\n",
       "    <tr>\n",
       "      <th>14</th>\n",
       "      <td>80</td>\n",
       "      <td>-36.868110</td>\n",
       "      <td>-250.813750</td>\n",
       "      <td>0.362328</td>\n",
       "    </tr>\n",
       "    <tr>\n",
       "      <th>15</th>\n",
       "      <td>85</td>\n",
       "      <td>-36.868130</td>\n",
       "      <td>-250.813888</td>\n",
       "      <td>0.224159</td>\n",
       "    </tr>\n",
       "    <tr>\n",
       "      <th>16</th>\n",
       "      <td>90</td>\n",
       "      <td>-36.868142</td>\n",
       "      <td>-250.813971</td>\n",
       "      <td>0.141026</td>\n",
       "    </tr>\n",
       "    <tr>\n",
       "      <th>17</th>\n",
       "      <td>95</td>\n",
       "      <td>-36.868152</td>\n",
       "      <td>-250.814037</td>\n",
       "      <td>0.074901</td>\n",
       "    </tr>\n",
       "    <tr>\n",
       "      <th>18</th>\n",
       "      <td>100</td>\n",
       "      <td>-36.868163</td>\n",
       "      <td>-250.814112</td>\n",
       "      <td>0.000000</td>\n",
       "    </tr>\n",
       "  </tbody>\n",
       "</table>\n",
       "</div>"
      ],
      "text/plain": [
       "    Ecut  Etot (Ry)  Etot (eV/atom)  Etot-Etot(cut=100) (meV/atom)\n",
       "0     10 -35.788956     -243.472267                    7341.845153\n",
       "1     15 -36.461757     -248.049335                    2764.777025\n",
       "2     20 -36.746033     -249.983266                     830.846376\n",
       "3     25 -36.819532     -250.483279                     330.832883\n",
       "4     30 -36.849580     -250.687695                     126.417428\n",
       "5     35 -36.863228     -250.780540                      33.571989\n",
       "6     40 -36.866487     -250.802712                      11.400331\n",
       "7     45 -36.866999     -250.806196                       7.916243\n",
       "8     50 -36.867128     -250.807072                       7.039880\n",
       "9     55 -36.867329     -250.808436                       5.676151\n",
       "10    60 -36.867591     -250.810224                       3.888663\n",
       "11    65 -36.867823     -250.811802                       2.310503\n",
       "12    70 -36.867982     -250.812879                       1.233588\n",
       "13    75 -36.868069     -250.813472                       0.640570\n",
       "14    80 -36.868110     -250.813750                       0.362328\n",
       "15    85 -36.868130     -250.813888                       0.224159\n",
       "16    90 -36.868142     -250.813971                       0.141026\n",
       "17    95 -36.868152     -250.814037                       0.074901\n",
       "18   100 -36.868163     -250.814112                       0.000000"
      ]
     },
     "execution_count": 114,
     "metadata": {},
     "output_type": "execute_result"
    }
   ],
   "source": [
    "Etot_1 = pd.read_table(\"../Ecut/Etot\", delimiter=\" \", header=None)\n",
    "Etot_conEcut = pd.DataFrame({'Ecut' : [i for i in range(10,105,5)], 'Etot (Ry)' : Etot_1[24].to_list(), 'Etot (eV/atom)' : [i*13.606/2 for i in Etot_1[24].to_list()],'Etot-Etot(cut=100) (meV/atom)' : [(i-Etot_1[24][18])*(13.606/2)*1000 for i in Etot_1[24].to_list()]})\n",
    "Etot_conEcut"
   ]
  },
  {
   "cell_type": "code",
   "execution_count": 118,
   "id": "28d97817-f6a1-43f1-8f64-b9080dc9dd6b",
   "metadata": {},
   "outputs": [
    {
     "data": {
      "text/plain": [
       "<matplotlib.collections.LineCollection at 0x12e19f940>"
      ]
     },
     "execution_count": 118,
     "metadata": {},
     "output_type": "execute_result"
    },
    {
     "data": {
      "image/png": "[encoded data removed]",
      "text/plain": [
       "<Figure size 864x576 with 1 Axes>"
      ]
     },
     "metadata": {
      "needs_background": "light"
     },
     "output_type": "display_data"
    }
   ],
   "source": [
    "fig = plt.figure(figsize=(12,8))\n",
    "\n",
    "plt.plot(Etot_conEcut[\"Ecut\"],Etot_conEcut[\"Etot (Ry)\"],\"bo-\")\n",
    "plt.xlabel('E$_{cut}$ (Ry)',size=14)\n",
    "plt.ylabel('E$_{total}$ (Ry)',size=14)\n",
    "plt.hlines(Etot_1[24][18],10,100,color='k',linestyles=':')\n",
    "\n",
    "#plt.xlim(50,100)\n",
    "#plt.ylim(-36.8682,-36.867)"
   ]
  },
  {
   "cell_type": "code",
   "execution_count": 116,
   "id": "49ff45e0-a0cd-4304-a006-d8865b41e7ae",
   "metadata": {},
   "outputs": [],
   "source": [
    "delta_Etot = []\n",
    "for i in range(0,len(Etot_conEcut[\"Etot (eV/atom)\"])-1,1):\n",
    "        delta_Etot.append(abs(Etot_conEcut[\"Etot (eV/atom)\"].to_list()[i+1]-Etot_conEcut[\"Etot (eV/atom)\"].to_list()[i]))"
   ]
  },
  {
   "cell_type": "code",
   "execution_count": 117,
   "id": "37bc25f4-05ec-4236-b8aa-b0b4fb2cbb43",
   "metadata": {},
   "outputs": [
    {
     "data": {
      "image/png": "[encoded data removed]",
      "text/plain": [
       "<Figure size 864x576 with 1 Axes>"
      ]
     },
     "metadata": {
      "needs_background": "light"
     },
     "output_type": "display_data"
    }
   ],
   "source": [
    "fig = plt.figure(figsize=(12,8))\n",
    "\n",
    "plt.plot(range(15,105,5),delta_Etot,\"bo-\")\n",
    "plt.xlabel('E$_{cut}$ (Ry)',size=14)\n",
    "plt.ylabel('$\\Delta$E$_{total}$ (eV/atom)',size=14)\n",
    "plt.hlines(0.001,10,100,color='k',linestyles=':')\n",
    "\n",
    "plt.yscale('log')"
   ]
  },
  {
   "cell_type": "markdown",
   "id": "d5add36e-497c-42e6-8386-d05186bb0bb0",
   "metadata": {},
   "source": [
    "# k-point convergence test"
   ]
  },
  {
   "cell_type": "code",
   "execution_count": 119,
   "id": "c11bfc7a-6495-4010-a940-264916a3861f",
   "metadata": {},
   "outputs": [
    {
     "data": {
      "text/html": [
       "<div>\n",
       "<style scoped>\n",
       "    .dataframe tbody tr th:only-of-type {\n",
       "        vertical-align: middle;\n",
       "    }\n",
       "\n",
       "    .dataframe tbody tr th {\n",
       "        vertical-align: top;\n",
       "    }\n",
       "\n",
       "    .dataframe thead th {\n",
       "        text-align: right;\n",
       "    }\n",
       "</style>\n",
       "<table border=\"1\" class=\"dataframe\">\n",
       "  <thead>\n",
       "    <tr style=\"text-align: right;\">\n",
       "      <th></th>\n",
       "      <th>Ecut</th>\n",
       "      <th>Etot (Ry)</th>\n",
       "      <th>Etot (eV/atom)</th>\n",
       "      <th>Etot-Etot(kp=13) (meV/atom)</th>\n",
       "    </tr>\n",
       "  </thead>\n",
       "  <tbody>\n",
       "    <tr>\n",
       "      <th>0</th>\n",
       "      <td>3</td>\n",
       "      <td>-36.825544</td>\n",
       "      <td>-250.524176</td>\n",
       "      <td>289.419689</td>\n",
       "    </tr>\n",
       "    <tr>\n",
       "      <th>1</th>\n",
       "      <td>4</td>\n",
       "      <td>-36.858351</td>\n",
       "      <td>-250.747362</td>\n",
       "      <td>66.233396</td>\n",
       "    </tr>\n",
       "    <tr>\n",
       "      <th>2</th>\n",
       "      <td>5</td>\n",
       "      <td>-36.865590</td>\n",
       "      <td>-250.796608</td>\n",
       "      <td>16.987635</td>\n",
       "    </tr>\n",
       "    <tr>\n",
       "      <th>3</th>\n",
       "      <td>6</td>\n",
       "      <td>-36.867401</td>\n",
       "      <td>-250.808926</td>\n",
       "      <td>4.669579</td>\n",
       "    </tr>\n",
       "    <tr>\n",
       "      <th>4</th>\n",
       "      <td>7</td>\n",
       "      <td>-36.867888</td>\n",
       "      <td>-250.812240</td>\n",
       "      <td>1.355362</td>\n",
       "    </tr>\n",
       "    <tr>\n",
       "      <th>5</th>\n",
       "      <td>8</td>\n",
       "      <td>-36.868027</td>\n",
       "      <td>-250.813189</td>\n",
       "      <td>0.406411</td>\n",
       "    </tr>\n",
       "    <tr>\n",
       "      <th>6</th>\n",
       "      <td>9</td>\n",
       "      <td>-36.868069</td>\n",
       "      <td>-250.813472</td>\n",
       "      <td>0.124019</td>\n",
       "    </tr>\n",
       "    <tr>\n",
       "      <th>7</th>\n",
       "      <td>10</td>\n",
       "      <td>-36.868081</td>\n",
       "      <td>-250.813553</td>\n",
       "      <td>0.042723</td>\n",
       "    </tr>\n",
       "    <tr>\n",
       "      <th>8</th>\n",
       "      <td>11</td>\n",
       "      <td>-36.868085</td>\n",
       "      <td>-250.813583</td>\n",
       "      <td>0.012586</td>\n",
       "    </tr>\n",
       "    <tr>\n",
       "      <th>9</th>\n",
       "      <td>12</td>\n",
       "      <td>-36.868086</td>\n",
       "      <td>-250.813590</td>\n",
       "      <td>0.005374</td>\n",
       "    </tr>\n",
       "    <tr>\n",
       "      <th>10</th>\n",
       "      <td>13</td>\n",
       "      <td>-36.868087</td>\n",
       "      <td>-250.813596</td>\n",
       "      <td>0.000000</td>\n",
       "    </tr>\n",
       "  </tbody>\n",
       "</table>\n",
       "</div>"
      ],
      "text/plain": [
       "    Ecut  Etot (Ry)  Etot (eV/atom)  Etot-Etot(kp=13) (meV/atom)\n",
       "0      3 -36.825544     -250.524176                   289.419689\n",
       "1      4 -36.858351     -250.747362                    66.233396\n",
       "2      5 -36.865590     -250.796608                    16.987635\n",
       "3      6 -36.867401     -250.808926                     4.669579\n",
       "4      7 -36.867888     -250.812240                     1.355362\n",
       "5      8 -36.868027     -250.813189                     0.406411\n",
       "6      9 -36.868069     -250.813472                     0.124019\n",
       "7     10 -36.868081     -250.813553                     0.042723\n",
       "8     11 -36.868085     -250.813583                     0.012586\n",
       "9     12 -36.868086     -250.813590                     0.005374\n",
       "10    13 -36.868087     -250.813596                     0.000000"
      ]
     },
     "execution_count": 119,
     "metadata": {},
     "output_type": "execute_result"
    }
   ],
   "source": [
    "Etot_2 = pd.read_table(\"../kpoint/Etot\", delimiter=\" \", header=None)\n",
    "Etot_conkp = pd.DataFrame({'Ecut' : [i for i in range(3,14,1)], 'Etot (Ry)' : Etot_2[24].to_list(), 'Etot (eV/atom)' : [i*13.606/2 for i in Etot_2[24].to_list()],'Etot-Etot(kp=13) (meV/atom)' : [(i-Etot_2[24][10])*(13.606/2)*1000 for i in Etot_2[24].to_list()]})\n",
    "Etot_conkp"
   ]
  },
  {
   "cell_type": "code",
   "execution_count": 120,
   "id": "22be69f3-0f6a-42f0-b78c-0a1fc4e710ec",
   "metadata": {},
   "outputs": [
    {
     "data": {
      "text/plain": [
       "<matplotlib.collections.LineCollection at 0x12e9cadc0>"
      ]
     },
     "execution_count": 120,
     "metadata": {},
     "output_type": "execute_result"
    },
    {
     "data": {
      "image/png": "[encoded data removed]",
      "text/plain": [
       "<Figure size 864x576 with 1 Axes>"
      ]
     },
     "metadata": {
      "needs_background": "light"
     },
     "output_type": "display_data"
    }
   ],
   "source": [
    "fig = plt.figure(figsize=(12,8))\n",
    "\n",
    "plt.plot(Etot_conkp[\"Ecut\"],Etot_conkp[\"Etot (Ry)\"],\"bo-\")\n",
    "plt.xlabel('nkp',size=14)\n",
    "plt.ylabel('E$_{total}$ (Ry)',size=14)\n",
    "plt.hlines(Etot_2[24][10],3,13,color='k',linestyles=':')\n",
    "\n",
    "#plt.xlim(5,13)\n",
    "#plt.ylim(-36.8682,-36.867)"
   ]
  },
  {
   "cell_type": "code",
   "execution_count": 103,
   "id": "a8ba8d57-6b56-4d16-924c-c548f9734bcb",
   "metadata": {},
   "outputs": [],
   "source": [
    "delta_Etot_kp = []\n",
    "for i in range(0,len(Etot_conkp[\"Etot (eV/atom)\"])-1,1):\n",
    "        delta_Etot_kp.append(abs(Etot_conkp[\"Etot (eV/atom)\"].to_list()[i+1]-Etot_conkp[\"Etot (eV/atom)\"].to_list()[i]))"
   ]
  },
  {
   "cell_type": "code",
   "execution_count": 121,
   "id": "26da8e15-5274-4248-80dc-f154434334e7",
   "metadata": {},
   "outputs": [
    {
     "data": {
      "image/png": "[encoded data removed]",
      "text/plain": [
       "<Figure size 864x576 with 1 Axes>"
      ]
     },
     "metadata": {
      "needs_background": "light"
     },
     "output_type": "display_data"
    }
   ],
   "source": [
    "fig = plt.figure(figsize=(12,8))\n",
    "\n",
    "plt.plot(range(4,14,1),delta_Etot_kp,\"bo-\")\n",
    "plt.xlabel('nkp',size=14)\n",
    "plt.ylabel('$\\Delta$E$_{total}$ (eV/atom)',size=14)\n",
    "plt.hlines(0.001,4,13,color='k',linestyles=':')\n",
    "\n",
    "plt.yscale('log')"
   ]
  },
  {
   "cell_type": "code",
   "execution_count": null,
   "id": "82f46403-e639-43e1-ac6b-a55b8b614022",
   "metadata": {},
   "outputs": [],
   "source": []
  }
 ],
 "metadata": {
  "kernelspec": {
   "display_name": "Python 3",
   "language": "python",
   "name": "python3"
  },
  "language_info": {
   "codemirror_mode": {
    "name": "ipython",
    "version": 3
   },
   "file_extension": ".py",
   "mimetype": "text/x-python",
   "name": "python",
   "nbconvert_exporter": "python",
   "pygments_lexer": "ipython3",
   "version": "3.9.13"
  }
 },
 "nbformat": 4,
 "nbformat_minor": 5
}
