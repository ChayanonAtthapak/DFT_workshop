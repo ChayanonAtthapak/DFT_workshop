{
 "cells": [
  {
   "cell_type": "code",
   "execution_count": 30,
   "id": "568b3c9c-897a-4106-91a8-8ed10b9310d7",
   "metadata": {},
   "outputs": [],
   "source": [
    "import numpy as np\n",
    "import matplotlib.pyplot as plt\n",
    "import pandas as pd\n",
    "\n",
    "%matplotlib inline"
   ]
  },
  {
   "cell_type": "code",
   "execution_count": 63,
   "id": "4b47cdbe-bf18-499e-88d8-2dd414e36685",
   "metadata": {},
   "outputs": [
    {
     "data": {
      "text/html": [
       "<div>\n",
       "<style scoped>\n",
       "    .dataframe tbody tr th:only-of-type {\n",
       "        vertical-align: middle;\n",
       "    }\n",
       "\n",
       "    .dataframe tbody tr th {\n",
       "        vertical-align: top;\n",
       "    }\n",
       "\n",
       "    .dataframe thead th {\n",
       "        text-align: right;\n",
       "    }\n",
       "</style>\n",
       "<table border=\"1\" class=\"dataframe\">\n",
       "  <thead>\n",
       "    <tr style=\"text-align: right;\">\n",
       "      <th></th>\n",
       "      <th>E (eV)</th>\n",
       "      <th>dos(E)</th>\n",
       "      <th>Int dos(E)</th>\n",
       "    </tr>\n",
       "  </thead>\n",
       "  <tbody>\n",
       "    <tr>\n",
       "      <th>0</th>\n",
       "      <td>-10.00</td>\n",
       "      <td>0.0000</td>\n",
       "      <td>0.00</td>\n",
       "    </tr>\n",
       "    <tr>\n",
       "      <th>1</th>\n",
       "      <td>-9.99</td>\n",
       "      <td>0.0000</td>\n",
       "      <td>0.00</td>\n",
       "    </tr>\n",
       "    <tr>\n",
       "      <th>2</th>\n",
       "      <td>-9.98</td>\n",
       "      <td>0.0000</td>\n",
       "      <td>0.00</td>\n",
       "    </tr>\n",
       "    <tr>\n",
       "      <th>3</th>\n",
       "      <td>-9.97</td>\n",
       "      <td>0.0000</td>\n",
       "      <td>0.00</td>\n",
       "    </tr>\n",
       "    <tr>\n",
       "      <th>4</th>\n",
       "      <td>-9.96</td>\n",
       "      <td>0.0000</td>\n",
       "      <td>0.00</td>\n",
       "    </tr>\n",
       "    <tr>\n",
       "      <th>...</th>\n",
       "      <td>...</td>\n",
       "      <td>...</td>\n",
       "      <td>...</td>\n",
       "    </tr>\n",
       "    <tr>\n",
       "      <th>5996</th>\n",
       "      <td>49.96</td>\n",
       "      <td>0.3452</td>\n",
       "      <td>15.98</td>\n",
       "    </tr>\n",
       "    <tr>\n",
       "      <th>5997</th>\n",
       "      <td>49.97</td>\n",
       "      <td>0.3451</td>\n",
       "      <td>15.98</td>\n",
       "    </tr>\n",
       "    <tr>\n",
       "      <th>5998</th>\n",
       "      <td>49.98</td>\n",
       "      <td>0.3450</td>\n",
       "      <td>15.99</td>\n",
       "    </tr>\n",
       "    <tr>\n",
       "      <th>5999</th>\n",
       "      <td>49.99</td>\n",
       "      <td>0.3449</td>\n",
       "      <td>15.99</td>\n",
       "    </tr>\n",
       "    <tr>\n",
       "      <th>6000</th>\n",
       "      <td>50.00</td>\n",
       "      <td>0.3448</td>\n",
       "      <td>15.99</td>\n",
       "    </tr>\n",
       "  </tbody>\n",
       "</table>\n",
       "<p>6001 rows × 3 columns</p>\n",
       "</div>"
      ],
      "text/plain": [
       "      E (eV)  dos(E)  Int dos(E)\n",
       "0     -10.00  0.0000        0.00\n",
       "1      -9.99  0.0000        0.00\n",
       "2      -9.98  0.0000        0.00\n",
       "3      -9.97  0.0000        0.00\n",
       "4      -9.96  0.0000        0.00\n",
       "...      ...     ...         ...\n",
       "5996   49.96  0.3452       15.98\n",
       "5997   49.97  0.3451       15.98\n",
       "5998   49.98  0.3450       15.99\n",
       "5999   49.99  0.3449       15.99\n",
       "6000   50.00  0.3448       15.99\n",
       "\n",
       "[6001 rows x 3 columns]"
      ]
     },
     "execution_count": 63,
     "metadata": {},
     "output_type": "execute_result"
    }
   ],
   "source": [
    "energy, dos, idos = np.loadtxt(\"../DM_high_P/gap_DM_a_3.0_test.dos\",unpack=True)\n",
    "dos_df = pd.DataFrame({'E (eV)': energy, 'dos(E)': dos, 'Int dos(E)': idos})\n",
    "dos_df"
   ]
  },
  {
   "cell_type": "code",
   "execution_count": 80,
   "id": "4a931842-eed1-46b1-bcd2-ebe1fad2ea1c",
   "metadata": {},
   "outputs": [
    {
     "name": "stdout",
     "output_type": "stream",
     "text": [
      "E_fermi:  27.569 eV\n"
     ]
    }
   ],
   "source": [
    "dos_f = pd.read_table(\"../DM_high_P/gap_DM_a_3.0_test.dos\", delimiter=\" \", header=None)\n",
    "E_fermi = float(dos_f[17][0])\n",
    "print('E_fermi: ', E_fermi, 'eV')"
   ]
  },
  {
   "cell_type": "code",
   "execution_count": 81,
   "id": "bd3e7405-410f-46fb-a45b-48e01c1eaaba",
   "metadata": {},
   "outputs": [
    {
     "data": {
      "text/html": [
       "<div>\n",
       "<style scoped>\n",
       "    .dataframe tbody tr th:only-of-type {\n",
       "        vertical-align: middle;\n",
       "    }\n",
       "\n",
       "    .dataframe tbody tr th {\n",
       "        vertical-align: top;\n",
       "    }\n",
       "\n",
       "    .dataframe thead th {\n",
       "        text-align: right;\n",
       "    }\n",
       "</style>\n",
       "<table border=\"1\" class=\"dataframe\">\n",
       "  <thead>\n",
       "    <tr style=\"text-align: right;\">\n",
       "      <th></th>\n",
       "      <th>E (eV)</th>\n",
       "      <th>E-Ef (eV)</th>\n",
       "      <th>dos(E)</th>\n",
       "      <th>Int dos(E)</th>\n",
       "    </tr>\n",
       "  </thead>\n",
       "  <tbody>\n",
       "    <tr>\n",
       "      <th>0</th>\n",
       "      <td>-10.00</td>\n",
       "      <td>-37.569</td>\n",
       "      <td>0.0000</td>\n",
       "      <td>0.00</td>\n",
       "    </tr>\n",
       "    <tr>\n",
       "      <th>1</th>\n",
       "      <td>-9.99</td>\n",
       "      <td>-37.559</td>\n",
       "      <td>0.0000</td>\n",
       "      <td>0.00</td>\n",
       "    </tr>\n",
       "    <tr>\n",
       "      <th>2</th>\n",
       "      <td>-9.98</td>\n",
       "      <td>-37.549</td>\n",
       "      <td>0.0000</td>\n",
       "      <td>0.00</td>\n",
       "    </tr>\n",
       "    <tr>\n",
       "      <th>3</th>\n",
       "      <td>-9.97</td>\n",
       "      <td>-37.539</td>\n",
       "      <td>0.0000</td>\n",
       "      <td>0.00</td>\n",
       "    </tr>\n",
       "    <tr>\n",
       "      <th>4</th>\n",
       "      <td>-9.96</td>\n",
       "      <td>-37.529</td>\n",
       "      <td>0.0000</td>\n",
       "      <td>0.00</td>\n",
       "    </tr>\n",
       "    <tr>\n",
       "      <th>...</th>\n",
       "      <td>...</td>\n",
       "      <td>...</td>\n",
       "      <td>...</td>\n",
       "      <td>...</td>\n",
       "    </tr>\n",
       "    <tr>\n",
       "      <th>5996</th>\n",
       "      <td>49.96</td>\n",
       "      <td>22.391</td>\n",
       "      <td>0.3452</td>\n",
       "      <td>15.98</td>\n",
       "    </tr>\n",
       "    <tr>\n",
       "      <th>5997</th>\n",
       "      <td>49.97</td>\n",
       "      <td>22.401</td>\n",
       "      <td>0.3451</td>\n",
       "      <td>15.98</td>\n",
       "    </tr>\n",
       "    <tr>\n",
       "      <th>5998</th>\n",
       "      <td>49.98</td>\n",
       "      <td>22.411</td>\n",
       "      <td>0.3450</td>\n",
       "      <td>15.99</td>\n",
       "    </tr>\n",
       "    <tr>\n",
       "      <th>5999</th>\n",
       "      <td>49.99</td>\n",
       "      <td>22.421</td>\n",
       "      <td>0.3449</td>\n",
       "      <td>15.99</td>\n",
       "    </tr>\n",
       "    <tr>\n",
       "      <th>6000</th>\n",
       "      <td>50.00</td>\n",
       "      <td>22.431</td>\n",
       "      <td>0.3448</td>\n",
       "      <td>15.99</td>\n",
       "    </tr>\n",
       "  </tbody>\n",
       "</table>\n",
       "<p>6001 rows × 4 columns</p>\n",
       "</div>"
      ],
      "text/plain": [
       "      E (eV)  E-Ef (eV)  dos(E)  Int dos(E)\n",
       "0     -10.00    -37.569  0.0000        0.00\n",
       "1      -9.99    -37.559  0.0000        0.00\n",
       "2      -9.98    -37.549  0.0000        0.00\n",
       "3      -9.97    -37.539  0.0000        0.00\n",
       "4      -9.96    -37.529  0.0000        0.00\n",
       "...      ...        ...     ...         ...\n",
       "5996   49.96     22.391  0.3452       15.98\n",
       "5997   49.97     22.401  0.3451       15.98\n",
       "5998   49.98     22.411  0.3450       15.99\n",
       "5999   49.99     22.421  0.3449       15.99\n",
       "6000   50.00     22.431  0.3448       15.99\n",
       "\n",
       "[6001 rows x 4 columns]"
      ]
     },
     "execution_count": 81,
     "metadata": {},
     "output_type": "execute_result"
    }
   ],
   "source": [
    "dos_df.insert(1, \"E-Ef (eV)\", dos_df[\"E (eV)\"]-E_fermi, True)\n",
    "dos_df"
   ]
  },
  {
   "cell_type": "code",
   "execution_count": 89,
   "id": "59cbdcc1-000f-4db4-88bf-f14a91fadc43",
   "metadata": {},
   "outputs": [
    {
     "data": {
      "text/plain": [
       "<matplotlib.collections.PolyCollection at 0x160092550>"
      ]
     },
     "execution_count": 89,
     "metadata": {},
     "output_type": "execute_result"
    },
    {
     "data": {
      "image/png": "[encoded data removed]",
      "text/plain": [
       "<Figure size 864x576 with 1 Axes>"
      ]
     },
     "metadata": {
      "needs_background": "light"
     },
     "output_type": "display_data"
    }
   ],
   "source": [
    "fig = plt.figure(figsize=(12,8))\n",
    "\n",
    "plt.plot(dos_df['E-Ef (eV)'],dos_df['dos(E)'],color='b')\n",
    "plt.xlabel('E-E$_f$ (eV)',size=14)\n",
    "plt.ylabel('DOS',size=14)\n",
    "plt.xlim(-35,20)\n",
    "plt.ylim(0,1)\n",
    "plt.vlines(0, 0, 1, color='k', linestyle=':')\n",
    "plt.fill_between(dos_df['E-Ef (eV)'], 0, dos_df['dos(E)'], where=(dos_df['E-Ef (eV)'] < 0), facecolor='b', alpha=0.25)"
   ]
  },
  {
   "cell_type": "code",
   "execution_count": null,
   "id": "01a3a9f0-06f3-4462-99c9-6afe24f9195e",
   "metadata": {},
   "outputs": [],
   "source": []
  }
 ],
 "metadata": {
  "kernelspec": {
   "display_name": "Python 3",
   "language": "python",
   "name": "python3"
  },
  "language_info": {
   "codemirror_mode": {
    "name": "ipython",
    "version": 3
   },
   "file_extension": ".py",
   "mimetype": "text/x-python",
   "name": "python",
   "nbconvert_exporter": "python",
   "pygments_lexer": "ipython3",
   "version": "3.9.13"
  }
 },
 "nbformat": 4,
 "nbformat_minor": 5
}
