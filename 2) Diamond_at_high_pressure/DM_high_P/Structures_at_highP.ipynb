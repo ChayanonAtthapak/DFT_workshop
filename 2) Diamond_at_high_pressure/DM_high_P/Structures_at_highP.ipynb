{
 "cells": [
  {
   "cell_type": "code",
   "execution_count": 1,
   "id": "102c9f3d-8749-4432-b465-fc5e647a8d68",
   "metadata": {},
   "outputs": [],
   "source": [
    "import numpy as np\n",
    "import matplotlib.pyplot as plt\n",
    "import pandas as pd\n",
    "from sklearn.metrics import r2_score, mean_absolute_error\n",
    "\n",
    "%matplotlib inline"
   ]
  },
  {
   "cell_type": "markdown",
   "id": "9a0c3fe6-fe10-4276-aef6-7880f79301da",
   "metadata": {},
   "source": [
    "# Etot VS a"
   ]
  },
  {
   "cell_type": "code",
   "execution_count": 2,
   "id": "943d4f2c-932d-4f31-a038-1f50ffd1685c",
   "metadata": {},
   "outputs": [
    {
     "data": {
      "text/html": [
       "<div>\n",
       "<style scoped>\n",
       "    .dataframe tbody tr th:only-of-type {\n",
       "        vertical-align: middle;\n",
       "    }\n",
       "\n",
       "    .dataframe tbody tr th {\n",
       "        vertical-align: top;\n",
       "    }\n",
       "\n",
       "    .dataframe thead th {\n",
       "        text-align: right;\n",
       "    }\n",
       "</style>\n",
       "<table border=\"1\" class=\"dataframe\">\n",
       "  <thead>\n",
       "    <tr style=\"text-align: right;\">\n",
       "      <th></th>\n",
       "      <th>a</th>\n",
       "      <th>Etot (Ry)</th>\n",
       "      <th>Etot (eV/atom)</th>\n",
       "    </tr>\n",
       "  </thead>\n",
       "  <tbody>\n",
       "    <tr>\n",
       "      <th>0</th>\n",
       "      <td>3.0</td>\n",
       "      <td>-36.453645</td>\n",
       "      <td>-247.994147</td>\n",
       "    </tr>\n",
       "    <tr>\n",
       "      <th>1</th>\n",
       "      <td>3.1</td>\n",
       "      <td>-36.608131</td>\n",
       "      <td>-249.045114</td>\n",
       "    </tr>\n",
       "    <tr>\n",
       "      <th>2</th>\n",
       "      <td>3.2</td>\n",
       "      <td>-36.719033</td>\n",
       "      <td>-249.799585</td>\n",
       "    </tr>\n",
       "    <tr>\n",
       "      <th>3</th>\n",
       "      <td>3.3</td>\n",
       "      <td>-36.794351</td>\n",
       "      <td>-250.311972</td>\n",
       "    </tr>\n",
       "    <tr>\n",
       "      <th>4</th>\n",
       "      <td>3.4</td>\n",
       "      <td>-36.840702</td>\n",
       "      <td>-250.627294</td>\n",
       "    </tr>\n",
       "    <tr>\n",
       "      <th>5</th>\n",
       "      <td>3.5</td>\n",
       "      <td>-36.863563</td>\n",
       "      <td>-250.782820</td>\n",
       "    </tr>\n",
       "    <tr>\n",
       "      <th>6</th>\n",
       "      <td>3.6</td>\n",
       "      <td>-36.867503</td>\n",
       "      <td>-250.809621</td>\n",
       "    </tr>\n",
       "    <tr>\n",
       "      <th>7</th>\n",
       "      <td>3.7</td>\n",
       "      <td>-36.856337</td>\n",
       "      <td>-250.733662</td>\n",
       "    </tr>\n",
       "    <tr>\n",
       "      <th>8</th>\n",
       "      <td>3.8</td>\n",
       "      <td>-36.833281</td>\n",
       "      <td>-250.576814</td>\n",
       "    </tr>\n",
       "    <tr>\n",
       "      <th>9</th>\n",
       "      <td>3.9</td>\n",
       "      <td>-36.801017</td>\n",
       "      <td>-250.357316</td>\n",
       "    </tr>\n",
       "    <tr>\n",
       "      <th>10</th>\n",
       "      <td>4.0</td>\n",
       "      <td>-36.761833</td>\n",
       "      <td>-250.090747</td>\n",
       "    </tr>\n",
       "  </tbody>\n",
       "</table>\n",
       "</div>"
      ],
      "text/plain": [
       "      a  Etot (Ry)  Etot (eV/atom)\n",
       "0   3.0 -36.453645     -247.994147\n",
       "1   3.1 -36.608131     -249.045114\n",
       "2   3.2 -36.719033     -249.799585\n",
       "3   3.3 -36.794351     -250.311972\n",
       "4   3.4 -36.840702     -250.627294\n",
       "5   3.5 -36.863563     -250.782820\n",
       "6   3.6 -36.867503     -250.809621\n",
       "7   3.7 -36.856337     -250.733662\n",
       "8   3.8 -36.833281     -250.576814\n",
       "9   3.9 -36.801017     -250.357316\n",
       "10  4.0 -36.761833     -250.090747"
      ]
     },
     "execution_count": 2,
     "metadata": {},
     "output_type": "execute_result"
    }
   ],
   "source": [
    "Etot_1 = pd.read_table(\"../DM_high_P/Etot\", delimiter=\" \", header=None)\n",
    "Etot_high_P = pd.DataFrame({'a (A)' : [i/10 for i in range(30,41,1)], 'Etot (Ry)' : Etot_1[24].to_list(), 'Etot (eV/atom)' : [i*13.606/2 for i in Etot_1[24].to_list()]})\n",
    "Etot_high_P"
   ]
  },
  {
   "cell_type": "code",
   "execution_count": 3,
   "id": "a46669af-b778-4483-a2db-fac41131fcfa",
   "metadata": {},
   "outputs": [
    {
     "data": {
      "text/plain": [
       "(-251.0, -247.5)"
      ]
     },
     "execution_count": 3,
     "metadata": {},
     "output_type": "execute_result"
    },
    {
     "data": {
      "image/png": "[encoded data removed]",
      "text/plain": [
       "<Figure size 864x576 with 1 Axes>"
      ]
     },
     "metadata": {
      "needs_background": "light"
     },
     "output_type": "display_data"
    }
   ],
   "source": [
    "fig = plt.figure(figsize=(12,8))\n",
    "\n",
    "plt.plot(Etot_high_P['a'],Etot_high_P[\"Etot (eV/atom)\"],\"bo-\")\n",
    "plt.xlabel('a ($\\AA$)',size=14)\n",
    "plt.ylabel('E$_{total}$ (eV/atom)',size=14)\n",
    "plt.vlines(3.57,-252,-247,color='k',linestyles=':')\n",
    "\n",
    "plt.ylim(-251,-247.5)"
   ]
  },
  {
   "cell_type": "markdown",
   "id": "15fd8795-4211-4e34-91e6-8dd3c0075abd",
   "metadata": {},
   "source": [
    "# Etot VS Volume"
   ]
  },
  {
   "cell_type": "code",
   "execution_count": 4,
   "id": "0430ad09-a74b-4d60-93b7-517bcd0e3caf",
   "metadata": {},
   "outputs": [
    {
     "data": {
      "text/html": [
       "<div>\n",
       "<style scoped>\n",
       "    .dataframe tbody tr th:only-of-type {\n",
       "        vertical-align: middle;\n",
       "    }\n",
       "\n",
       "    .dataframe tbody tr th {\n",
       "        vertical-align: top;\n",
       "    }\n",
       "\n",
       "    .dataframe thead th {\n",
       "        text-align: right;\n",
       "    }\n",
       "</style>\n",
       "<table border=\"1\" class=\"dataframe\">\n",
       "  <thead>\n",
       "    <tr style=\"text-align: right;\">\n",
       "      <th></th>\n",
       "      <th>a</th>\n",
       "      <th>V (A^3/atom)</th>\n",
       "      <th>Etot (Ry)</th>\n",
       "      <th>Etot (eV/atom)</th>\n",
       "    </tr>\n",
       "  </thead>\n",
       "  <tbody>\n",
       "    <tr>\n",
       "      <th>0</th>\n",
       "      <td>3.0</td>\n",
       "      <td>3.375000</td>\n",
       "      <td>-36.453645</td>\n",
       "      <td>-247.994147</td>\n",
       "    </tr>\n",
       "    <tr>\n",
       "      <th>1</th>\n",
       "      <td>3.1</td>\n",
       "      <td>3.723875</td>\n",
       "      <td>-36.608131</td>\n",
       "      <td>-249.045114</td>\n",
       "    </tr>\n",
       "    <tr>\n",
       "      <th>2</th>\n",
       "      <td>3.2</td>\n",
       "      <td>4.096000</td>\n",
       "      <td>-36.719033</td>\n",
       "      <td>-249.799585</td>\n",
       "    </tr>\n",
       "    <tr>\n",
       "      <th>3</th>\n",
       "      <td>3.3</td>\n",
       "      <td>4.492125</td>\n",
       "      <td>-36.794351</td>\n",
       "      <td>-250.311972</td>\n",
       "    </tr>\n",
       "    <tr>\n",
       "      <th>4</th>\n",
       "      <td>3.4</td>\n",
       "      <td>4.913000</td>\n",
       "      <td>-36.840702</td>\n",
       "      <td>-250.627294</td>\n",
       "    </tr>\n",
       "    <tr>\n",
       "      <th>5</th>\n",
       "      <td>3.5</td>\n",
       "      <td>5.359375</td>\n",
       "      <td>-36.863563</td>\n",
       "      <td>-250.782820</td>\n",
       "    </tr>\n",
       "    <tr>\n",
       "      <th>6</th>\n",
       "      <td>3.6</td>\n",
       "      <td>5.832000</td>\n",
       "      <td>-36.867503</td>\n",
       "      <td>-250.809621</td>\n",
       "    </tr>\n",
       "    <tr>\n",
       "      <th>7</th>\n",
       "      <td>3.7</td>\n",
       "      <td>6.331625</td>\n",
       "      <td>-36.856337</td>\n",
       "      <td>-250.733662</td>\n",
       "    </tr>\n",
       "    <tr>\n",
       "      <th>8</th>\n",
       "      <td>3.8</td>\n",
       "      <td>6.859000</td>\n",
       "      <td>-36.833281</td>\n",
       "      <td>-250.576814</td>\n",
       "    </tr>\n",
       "    <tr>\n",
       "      <th>9</th>\n",
       "      <td>3.9</td>\n",
       "      <td>7.414875</td>\n",
       "      <td>-36.801017</td>\n",
       "      <td>-250.357316</td>\n",
       "    </tr>\n",
       "    <tr>\n",
       "      <th>10</th>\n",
       "      <td>4.0</td>\n",
       "      <td>8.000000</td>\n",
       "      <td>-36.761833</td>\n",
       "      <td>-250.090747</td>\n",
       "    </tr>\n",
       "  </tbody>\n",
       "</table>\n",
       "</div>"
      ],
      "text/plain": [
       "      a  V (A^3/atom)  Etot (Ry)  Etot (eV/atom)\n",
       "0   3.0      3.375000 -36.453645     -247.994147\n",
       "1   3.1      3.723875 -36.608131     -249.045114\n",
       "2   3.2      4.096000 -36.719033     -249.799585\n",
       "3   3.3      4.492125 -36.794351     -250.311972\n",
       "4   3.4      4.913000 -36.840702     -250.627294\n",
       "5   3.5      5.359375 -36.863563     -250.782820\n",
       "6   3.6      5.832000 -36.867503     -250.809621\n",
       "7   3.7      6.331625 -36.856337     -250.733662\n",
       "8   3.8      6.859000 -36.833281     -250.576814\n",
       "9   3.9      7.414875 -36.801017     -250.357316\n",
       "10  4.0      8.000000 -36.761833     -250.090747"
      ]
     },
     "execution_count": 4,
     "metadata": {},
     "output_type": "execute_result"
    }
   ],
   "source": [
    "Etot_high_P.insert(1, \"V (A^3/atom)\", np.power(Etot_high_P[\"a\"],3)/8, True)\n",
    "Etot_high_P"
   ]
  },
  {
   "cell_type": "code",
   "execution_count": 5,
   "id": "b5b26db7-ff4c-4a49-ac01-2a8cfed491ff",
   "metadata": {},
   "outputs": [
    {
     "data": {
      "text/plain": [
       "(-251.0, -247.5)"
      ]
     },
     "execution_count": 5,
     "metadata": {},
     "output_type": "execute_result"
    },
    {
     "data": {
      "image/png": "[encoded data removed]",
      "text/plain": [
       "<Figure size 864x576 with 1 Axes>"
      ]
     },
     "metadata": {
      "needs_background": "light"
     },
     "output_type": "display_data"
    }
   ],
   "source": [
    "fig = plt.figure(figsize=(12,8))\n",
    "\n",
    "plt.plot(Etot_high_P['V (A^3/atom)'],Etot_high_P[\"Etot (eV/atom)\"],\"bo-\")\n",
    "plt.xlabel('V ($\\AA^3$/atom)',size=14)\n",
    "plt.ylabel('E$_{total}$ (eV/atom)',size=14)\n",
    "plt.vlines(np.power(3.57,3)/8,-252,-247,color='k',linestyles=':')\n",
    "\n",
    "plt.ylim(-251,-247.5)"
   ]
  },
  {
   "cell_type": "markdown",
   "id": "7b5edf95-9092-4437-985f-10683579c385",
   "metadata": {},
   "source": [
    "# Polynomial fitting"
   ]
  },
  {
   "cell_type": "code",
   "execution_count": 6,
   "id": "7be5c00a-2b1d-4556-86a0-9f11e16a4d94",
   "metadata": {},
   "outputs": [
    {
     "name": "stdout",
     "output_type": "stream",
     "text": [
      "           5          4         3         2\n",
      "-0.003831 x + 0.1277 x - 1.727 x + 11.97 x - 42.5 x - 189.4\n",
      "R2:  0.9999908018538878\n",
      "MAE:  2.248432575121549 meV/atom\n"
     ]
    }
   ],
   "source": [
    "poly = np.poly1d(np.polyfit(Etot_high_P['V (A^3/atom)'], Etot_high_P[\"Etot (eV/atom)\"], 5))\n",
    "poly_line = np.linspace(3, 9, 100)\n",
    "print(poly)\n",
    "print('R2: ',r2_score(Etot_high_P[\"Etot (eV/atom)\"], poly(Etot_high_P['V (A^3/atom)'])))\n",
    "print('MAE: ',mean_absolute_error(Etot_high_P[\"Etot (eV/atom)\"], poly(Etot_high_P['V (A^3/atom)']))*1000,'meV/atom')"
   ]
  },
  {
   "cell_type": "code",
   "execution_count": 7,
   "id": "c257d8f9-cc5c-4e05-be90-f3e00deedac4",
   "metadata": {},
   "outputs": [
    {
     "data": {
      "text/plain": [
       "<matplotlib.legend.Legend at 0x161f90670>"
      ]
     },
     "execution_count": 7,
     "metadata": {},
     "output_type": "execute_result"
    },
    {
     "data": {
      "image/png": "[encoded data removed]",
      "text/plain": [
       "<Figure size 864x576 with 1 Axes>"
      ]
     },
     "metadata": {
      "needs_background": "light"
     },
     "output_type": "display_data"
    }
   ],
   "source": [
    "fig = plt.figure(figsize=(12,8))\n",
    "\n",
    "plt.scatter(Etot_high_P['V (A^3/atom)'],Etot_high_P[\"Etot (eV/atom)\"],color='b',label='DFT calculated')\n",
    "plt.plot(poly_line,poly(poly_line),'r--',label='Poly fitted')\n",
    "plt.xlabel('V ($\\AA^3$/atom)',size=14)\n",
    "plt.ylabel('E$_{total}$ (eV/atom)',size=14)\n",
    "plt.vlines(np.power(3.57,3)/8,-252,-247,color='k',linestyles=':')\n",
    "\n",
    "plt.ylim(-251,-247.5)\n",
    "plt.legend()"
   ]
  },
  {
   "cell_type": "markdown",
   "id": "930c3739-06c0-4e1a-914f-d0bc2c0fdfc3",
   "metadata": {},
   "source": [
    "# Pressure calculation"
   ]
  },
  {
   "cell_type": "code",
   "execution_count": 8,
   "id": "19229a64-4dd3-4b9a-8b19-de918c9301c2",
   "metadata": {},
   "outputs": [
    {
     "name": "stdout",
     "output_type": "stream",
     "text": [
      "[-42.49634681139909, 23.94901382834091, -5.1819511023206895, 0.510623747912429, -0.01915468081121176]\n"
     ]
    }
   ],
   "source": [
    "deriv_poly = [poly[i] * i for i in range(1, len(poly)+1)]\n",
    "print(deriv_poly)"
   ]
  },
  {
   "cell_type": "code",
   "execution_count": 9,
   "id": "93c863b3-cd4f-4132-946a-79db84650be8",
   "metadata": {},
   "outputs": [],
   "source": [
    "def P_from_deriv_poly_eq(deriv_poly,V):\n",
    "    return -(deriv_poly[0]+deriv_poly[1]*V+deriv_poly[2]*np.power(V,2)+deriv_poly[3]*np.power(V,3)+deriv_poly[4]*np.power(V,4))*1.602*np.power(10,2)"
   ]
  },
  {
   "cell_type": "code",
   "execution_count": 10,
   "id": "daabb0a2-5aa8-487e-9171-6ad2aef531c5",
   "metadata": {},
   "outputs": [
    {
     "data": {
      "text/plain": [
       "0     568.588946\n",
       "1     398.497544\n",
       "2     262.994843\n",
       "3     159.397547\n",
       "4      83.416331\n",
       "5      29.507383\n",
       "6      -8.466346\n",
       "7     -36.169882\n",
       "8     -57.214623\n",
       "9     -70.927546\n",
       "10    -69.315271\n",
       "Name: V (A^3/atom), dtype: float64"
      ]
     },
     "execution_count": 10,
     "metadata": {},
     "output_type": "execute_result"
    }
   ],
   "source": [
    "P_from_deriv_poly_eq(deriv_poly,Etot_high_P[\"V (A^3/atom)\"])"
   ]
  },
  {
   "cell_type": "code",
   "execution_count": 11,
   "id": "2c19ab74-5949-4d36-b593-84ce222e0e5d",
   "metadata": {},
   "outputs": [
    {
     "data": {
      "text/html": [
       "<div>\n",
       "<style scoped>\n",
       "    .dataframe tbody tr th:only-of-type {\n",
       "        vertical-align: middle;\n",
       "    }\n",
       "\n",
       "    .dataframe tbody tr th {\n",
       "        vertical-align: top;\n",
       "    }\n",
       "\n",
       "    .dataframe thead th {\n",
       "        text-align: right;\n",
       "    }\n",
       "</style>\n",
       "<table border=\"1\" class=\"dataframe\">\n",
       "  <thead>\n",
       "    <tr style=\"text-align: right;\">\n",
       "      <th></th>\n",
       "      <th>a</th>\n",
       "      <th>V (A^3/atom)</th>\n",
       "      <th>Etot (Ry)</th>\n",
       "      <th>Etot (eV/atom)</th>\n",
       "      <th>P (GPa)</th>\n",
       "    </tr>\n",
       "  </thead>\n",
       "  <tbody>\n",
       "    <tr>\n",
       "      <th>0</th>\n",
       "      <td>3.0</td>\n",
       "      <td>3.375000</td>\n",
       "      <td>-36.453645</td>\n",
       "      <td>-247.994147</td>\n",
       "      <td>568.588946</td>\n",
       "    </tr>\n",
       "    <tr>\n",
       "      <th>1</th>\n",
       "      <td>3.1</td>\n",
       "      <td>3.723875</td>\n",
       "      <td>-36.608131</td>\n",
       "      <td>-249.045114</td>\n",
       "      <td>398.497544</td>\n",
       "    </tr>\n",
       "    <tr>\n",
       "      <th>2</th>\n",
       "      <td>3.2</td>\n",
       "      <td>4.096000</td>\n",
       "      <td>-36.719033</td>\n",
       "      <td>-249.799585</td>\n",
       "      <td>262.994843</td>\n",
       "    </tr>\n",
       "    <tr>\n",
       "      <th>3</th>\n",
       "      <td>3.3</td>\n",
       "      <td>4.492125</td>\n",
       "      <td>-36.794351</td>\n",
       "      <td>-250.311972</td>\n",
       "      <td>159.397547</td>\n",
       "    </tr>\n",
       "    <tr>\n",
       "      <th>4</th>\n",
       "      <td>3.4</td>\n",
       "      <td>4.913000</td>\n",
       "      <td>-36.840702</td>\n",
       "      <td>-250.627294</td>\n",
       "      <td>83.416331</td>\n",
       "    </tr>\n",
       "    <tr>\n",
       "      <th>5</th>\n",
       "      <td>3.5</td>\n",
       "      <td>5.359375</td>\n",
       "      <td>-36.863563</td>\n",
       "      <td>-250.782820</td>\n",
       "      <td>29.507383</td>\n",
       "    </tr>\n",
       "    <tr>\n",
       "      <th>6</th>\n",
       "      <td>3.6</td>\n",
       "      <td>5.832000</td>\n",
       "      <td>-36.867503</td>\n",
       "      <td>-250.809621</td>\n",
       "      <td>-8.466346</td>\n",
       "    </tr>\n",
       "    <tr>\n",
       "      <th>7</th>\n",
       "      <td>3.7</td>\n",
       "      <td>6.331625</td>\n",
       "      <td>-36.856337</td>\n",
       "      <td>-250.733662</td>\n",
       "      <td>-36.169882</td>\n",
       "    </tr>\n",
       "    <tr>\n",
       "      <th>8</th>\n",
       "      <td>3.8</td>\n",
       "      <td>6.859000</td>\n",
       "      <td>-36.833281</td>\n",
       "      <td>-250.576814</td>\n",
       "      <td>-57.214623</td>\n",
       "    </tr>\n",
       "    <tr>\n",
       "      <th>9</th>\n",
       "      <td>3.9</td>\n",
       "      <td>7.414875</td>\n",
       "      <td>-36.801017</td>\n",
       "      <td>-250.357316</td>\n",
       "      <td>-70.927546</td>\n",
       "    </tr>\n",
       "    <tr>\n",
       "      <th>10</th>\n",
       "      <td>4.0</td>\n",
       "      <td>8.000000</td>\n",
       "      <td>-36.761833</td>\n",
       "      <td>-250.090747</td>\n",
       "      <td>-69.315271</td>\n",
       "    </tr>\n",
       "  </tbody>\n",
       "</table>\n",
       "</div>"
      ],
      "text/plain": [
       "      a  V (A^3/atom)  Etot (Ry)  Etot (eV/atom)     P (GPa)\n",
       "0   3.0      3.375000 -36.453645     -247.994147  568.588946\n",
       "1   3.1      3.723875 -36.608131     -249.045114  398.497544\n",
       "2   3.2      4.096000 -36.719033     -249.799585  262.994843\n",
       "3   3.3      4.492125 -36.794351     -250.311972  159.397547\n",
       "4   3.4      4.913000 -36.840702     -250.627294   83.416331\n",
       "5   3.5      5.359375 -36.863563     -250.782820   29.507383\n",
       "6   3.6      5.832000 -36.867503     -250.809621   -8.466346\n",
       "7   3.7      6.331625 -36.856337     -250.733662  -36.169882\n",
       "8   3.8      6.859000 -36.833281     -250.576814  -57.214623\n",
       "9   3.9      7.414875 -36.801017     -250.357316  -70.927546\n",
       "10  4.0      8.000000 -36.761833     -250.090747  -69.315271"
      ]
     },
     "execution_count": 11,
     "metadata": {},
     "output_type": "execute_result"
    }
   ],
   "source": [
    "Etot_high_P.insert(4, \"P (GPa)\", P_from_deriv_poly_eq(deriv_poly,Etot_high_P[\"V (A^3/atom)\"]), True)\n",
    "Etot_high_P"
   ]
  },
  {
   "cell_type": "code",
   "execution_count": 74,
   "id": "36e65fb8-35b6-4c97-9d6e-39fe32ebf764",
   "metadata": {},
   "outputs": [
    {
     "data": {
      "text/plain": [
       "(3.0, 9.0)"
      ]
     },
     "execution_count": 74,
     "metadata": {},
     "output_type": "execute_result"
    },
    {
     "data": {
      "image/png": "[encoded data removed]",
      "text/plain": [
       "<Figure size 864x576 with 1 Axes>"
      ]
     },
     "metadata": {
      "needs_background": "light"
     },
     "output_type": "display_data"
    }
   ],
   "source": [
    "fig = plt.figure(figsize=(12,8))\n",
    "\n",
    "plt.plot(P_from_deriv_poly_eq(deriv_poly,Etot_high_P[\"V (A^3/atom)\"]),Etot_high_P[\"V (A^3/atom)\"],'bo-')\n",
    "plt.xlabel('P (GPa)',size=14)\n",
    "plt.ylabel('V ($\\AA^3$/atom)',size=14)\n",
    "plt.vlines(0,3,9,color='k',linestyles=':')\n",
    "plt.ylim(3,9)"
   ]
  },
  {
   "cell_type": "markdown",
   "id": "d495614d-2b3d-471e-8b34-a913e86c7f4e",
   "metadata": {},
   "source": [
    "# a parameter VS Pressure"
   ]
  },
  {
   "cell_type": "code",
   "execution_count": 75,
   "id": "84717404-b2ee-4557-a633-f32899658ebf",
   "metadata": {},
   "outputs": [
    {
     "data": {
      "text/plain": [
       "(3.0, 4.0)"
      ]
     },
     "execution_count": 75,
     "metadata": {},
     "output_type": "execute_result"
    },
    {
     "data": {
      "image/png": "[encoded data removed]",
      "text/plain": [
       "<Figure size 864x576 with 1 Axes>"
      ]
     },
     "metadata": {
      "needs_background": "light"
     },
     "output_type": "display_data"
    }
   ],
   "source": [
    "fig = plt.figure(figsize=(12,8))\n",
    "\n",
    "plt.plot(P_from_deriv_poly_eq(deriv_poly,Etot_high_P[\"V (A^3/atom)\"]),Etot_high_P[\"a\"],'bo-')\n",
    "plt.xlabel('P (GPa)',size=14)\n",
    "plt.ylabel('a ($\\AA$)',size=14)\n",
    "plt.vlines(0,3,4,color='k',linestyles=':')\n",
    "plt.ylim(3,4)"
   ]
  },
  {
   "cell_type": "code",
   "execution_count": 67,
   "id": "a5f22899-809b-4ba7-abc5-46e4ce647145",
   "metadata": {},
   "outputs": [
    {
     "name": "stdout",
     "output_type": "stream",
     "text": [
      "            5             4             3             2\n",
      "-1.678e-13 x + 2.224e-10 x - 1.033e-07 x + 2.152e-05 x - 0.003169 x + 3.564\n",
      "R2:  0.9918442911576898\n",
      "MAE:  0.018867434897401555 A\n"
     ]
    }
   ],
   "source": [
    "poly2 = np.poly1d(np.polyfit(Etot_high_P[\"P (GPa)\"], Etot_high_P[\"a\"], 5))\n",
    "poly2_line = np.linspace(-50, 200, 26)\n",
    "print(poly2)\n",
    "print('R2: ',r2_score(Etot_high_P[\"a\"], poly2(Etot_high_P['P (GPa)'])))\n",
    "print('MAE: ',mean_absolute_error(Etot_high_P[\"a\"], poly2(Etot_high_P['P (GPa)'])),'A')"
   ]
  },
  {
   "cell_type": "code",
   "execution_count": 76,
   "id": "cf343f59-3a88-44ff-ad9c-93da2c632219",
   "metadata": {},
   "outputs": [
    {
     "data": {
      "text/plain": [
       "<matplotlib.legend.Legend at 0x162ea5100>"
      ]
     },
     "execution_count": 76,
     "metadata": {},
     "output_type": "execute_result"
    },
    {
     "data": {
      "image/png": "[encoded data removed]",
      "text/plain": [
       "<Figure size 864x576 with 1 Axes>"
      ]
     },
     "metadata": {
      "needs_background": "light"
     },
     "output_type": "display_data"
    }
   ],
   "source": [
    "fig = plt.figure(figsize=(12,8))\n",
    "\n",
    "plt.scatter(Etot_high_P['P (GPa)'],Etot_high_P[\"a\"],color='b',label='DFT calculated')\n",
    "plt.plot(poly2_line,poly2(poly2_line),'r--',label='Poly fitted')\n",
    "plt.xlabel('P (GPa)',size=14)\n",
    "plt.ylabel('a ($\\AA$)',size=14)\n",
    "plt.vlines(0,3,4,color='k',linestyles=':')\n",
    "plt.xlim(-50,200)\n",
    "plt.ylim(3,4)\n",
    "\n",
    "plt.legend()"
   ]
  },
  {
   "cell_type": "code",
   "execution_count": 70,
   "id": "a7ec638d-eec8-4c6c-a241-b1af323a16e4",
   "metadata": {},
   "outputs": [
    {
     "data": {
      "text/html": [
       "<div>\n",
       "<style scoped>\n",
       "    .dataframe tbody tr th:only-of-type {\n",
       "        vertical-align: middle;\n",
       "    }\n",
       "\n",
       "    .dataframe tbody tr th {\n",
       "        vertical-align: top;\n",
       "    }\n",
       "\n",
       "    .dataframe thead th {\n",
       "        text-align: right;\n",
       "    }\n",
       "</style>\n",
       "<table border=\"1\" class=\"dataframe\">\n",
       "  <thead>\n",
       "    <tr style=\"text-align: right;\">\n",
       "      <th></th>\n",
       "      <th>P (GPa)</th>\n",
       "      <th>a</th>\n",
       "    </tr>\n",
       "  </thead>\n",
       "  <tbody>\n",
       "    <tr>\n",
       "      <th>0</th>\n",
       "      <td>-50.0</td>\n",
       "      <td>3.790323</td>\n",
       "    </tr>\n",
       "    <tr>\n",
       "      <th>1</th>\n",
       "      <td>-40.0</td>\n",
       "      <td>3.732102</td>\n",
       "    </tr>\n",
       "    <tr>\n",
       "      <th>2</th>\n",
       "      <td>-30.0</td>\n",
       "      <td>3.681119</td>\n",
       "    </tr>\n",
       "    <tr>\n",
       "      <th>3</th>\n",
       "      <td>-20.0</td>\n",
       "      <td>3.636554</td>\n",
       "    </tr>\n",
       "    <tr>\n",
       "      <th>4</th>\n",
       "      <td>-10.0</td>\n",
       "      <td>3.597649</td>\n",
       "    </tr>\n",
       "    <tr>\n",
       "      <th>5</th>\n",
       "      <td>0.0</td>\n",
       "      <td>3.563700</td>\n",
       "    </tr>\n",
       "    <tr>\n",
       "      <th>6</th>\n",
       "      <td>10.0</td>\n",
       "      <td>3.534060</td>\n",
       "    </tr>\n",
       "    <tr>\n",
       "      <th>7</th>\n",
       "      <td>20.0</td>\n",
       "      <td>3.508135</td>\n",
       "    </tr>\n",
       "    <tr>\n",
       "      <th>8</th>\n",
       "      <td>30.0</td>\n",
       "      <td>3.485382</td>\n",
       "    </tr>\n",
       "    <tr>\n",
       "      <th>9</th>\n",
       "      <td>40.0</td>\n",
       "      <td>3.465309</td>\n",
       "    </tr>\n",
       "    <tr>\n",
       "      <th>10</th>\n",
       "      <td>50.0</td>\n",
       "      <td>3.447470</td>\n",
       "    </tr>\n",
       "    <tr>\n",
       "      <th>11</th>\n",
       "      <td>60.0</td>\n",
       "      <td>3.431464</td>\n",
       "    </tr>\n",
       "    <tr>\n",
       "      <th>12</th>\n",
       "      <td>70.0</td>\n",
       "      <td>3.416933</td>\n",
       "    </tr>\n",
       "    <tr>\n",
       "      <th>13</th>\n",
       "      <td>80.0</td>\n",
       "      <td>3.403563</td>\n",
       "    </tr>\n",
       "    <tr>\n",
       "      <th>14</th>\n",
       "      <td>90.0</td>\n",
       "      <td>3.391077</td>\n",
       "    </tr>\n",
       "    <tr>\n",
       "      <th>15</th>\n",
       "      <td>100.0</td>\n",
       "      <td>3.379234</td>\n",
       "    </tr>\n",
       "    <tr>\n",
       "      <th>16</th>\n",
       "      <td>110.0</td>\n",
       "      <td>3.367832</td>\n",
       "    </tr>\n",
       "    <tr>\n",
       "      <th>17</th>\n",
       "      <td>120.0</td>\n",
       "      <td>3.356700</td>\n",
       "    </tr>\n",
       "    <tr>\n",
       "      <th>18</th>\n",
       "      <td>130.0</td>\n",
       "      <td>3.345698</td>\n",
       "    </tr>\n",
       "    <tr>\n",
       "      <th>19</th>\n",
       "      <td>140.0</td>\n",
       "      <td>3.334715</td>\n",
       "    </tr>\n",
       "    <tr>\n",
       "      <th>20</th>\n",
       "      <td>150.0</td>\n",
       "      <td>3.323669</td>\n",
       "    </tr>\n",
       "    <tr>\n",
       "      <th>21</th>\n",
       "      <td>160.0</td>\n",
       "      <td>3.312502</td>\n",
       "    </tr>\n",
       "    <tr>\n",
       "      <th>22</th>\n",
       "      <td>170.0</td>\n",
       "      <td>3.301179</td>\n",
       "    </tr>\n",
       "    <tr>\n",
       "      <th>23</th>\n",
       "      <td>180.0</td>\n",
       "      <td>3.289686</td>\n",
       "    </tr>\n",
       "    <tr>\n",
       "      <th>24</th>\n",
       "      <td>190.0</td>\n",
       "      <td>3.278030</td>\n",
       "    </tr>\n",
       "    <tr>\n",
       "      <th>25</th>\n",
       "      <td>200.0</td>\n",
       "      <td>3.266232</td>\n",
       "    </tr>\n",
       "  </tbody>\n",
       "</table>\n",
       "</div>"
      ],
      "text/plain": [
       "    P (GPa)         a\n",
       "0     -50.0  3.790323\n",
       "1     -40.0  3.732102\n",
       "2     -30.0  3.681119\n",
       "3     -20.0  3.636554\n",
       "4     -10.0  3.597649\n",
       "5       0.0  3.563700\n",
       "6      10.0  3.534060\n",
       "7      20.0  3.508135\n",
       "8      30.0  3.485382\n",
       "9      40.0  3.465309\n",
       "10     50.0  3.447470\n",
       "11     60.0  3.431464\n",
       "12     70.0  3.416933\n",
       "13     80.0  3.403563\n",
       "14     90.0  3.391077\n",
       "15    100.0  3.379234\n",
       "16    110.0  3.367832\n",
       "17    120.0  3.356700\n",
       "18    130.0  3.345698\n",
       "19    140.0  3.334715\n",
       "20    150.0  3.323669\n",
       "21    160.0  3.312502\n",
       "22    170.0  3.301179\n",
       "23    180.0  3.289686\n",
       "24    190.0  3.278030\n",
       "25    200.0  3.266232"
      ]
     },
     "execution_count": 70,
     "metadata": {},
     "output_type": "execute_result"
    }
   ],
   "source": [
    "a_for_high_P = pd.DataFrame({'P (GPa)' : poly2_line, 'a (A)' : poly2(poly2_line)})\n",
    "a_for_high_P"
   ]
  },
  {
   "cell_type": "code",
   "execution_count": null,
   "id": "f0f7f8f3-d00b-4c9b-bfe3-7d72bc0f7d59",
   "metadata": {},
   "outputs": [],
   "source": []
  }
 ],
 "metadata": {
  "kernelspec": {
   "display_name": "Python 3",
   "language": "python",
   "name": "python3"
  },
  "language_info": {
   "codemirror_mode": {
    "name": "ipython",
    "version": 3
   },
   "file_extension": ".py",
   "mimetype": "text/x-python",
   "name": "python",
   "nbconvert_exporter": "python",
   "pygments_lexer": "ipython3",
   "version": "3.9.13"
  }
 },
 "nbformat": 4,
 "nbformat_minor": 5
}
